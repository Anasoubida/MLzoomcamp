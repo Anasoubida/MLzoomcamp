{
 "cells": [
  {
   "cell_type": "markdown",
   "id": "0c7b0b4b",
   "metadata": {},
   "source": [
    "# Decision Trees"
   ]
  },
  {
   "cell_type": "markdown",
   "id": "d64d2a0e",
   "metadata": {},
   "source": [
    "## Importing packages"
   ]
  },
  {
   "cell_type": "code",
   "execution_count": 1,
   "id": "9ed47e80",
   "metadata": {},
   "outputs": [],
   "source": [
    "import pandas as pd\n",
    "import numpy as np\n",
    "import matplotlib.pyplot as plt\n",
    "from sklearn.model_selection import train_test_split\n",
    "from sklearn.metrics import mutual_info_score, mean_squared_error\n",
    "from sklearn.linear_model import LogisticRegression, Ridge\n",
    "from sklearn.feature_extraction import DictVectorizer\n",
    "from sklearn import tree\n",
    "from sklearn.tree import export_text\n",
    "from sklearn.ensemble import RandomForestRegressor"
   ]
  },
  {
   "cell_type": "markdown",
   "id": "080e5a18",
   "metadata": {},
   "source": [
    "## Importing data and preprocessing"
   ]
  },
  {
   "cell_type": "code",
   "execution_count": 2,
   "id": "5b202cf7",
   "metadata": {},
   "outputs": [],
   "source": [
    "df = pd.read_csv(\"C:/M2SEP/Learning path/MLzoomcamp/data/trees/housing.csv\")"
   ]
  },
  {
   "cell_type": "code",
   "execution_count": 3,
   "id": "135e5fd7",
   "metadata": {},
   "outputs": [
    {
     "data": {
      "text/plain": [
       "Index(['longitude', 'latitude', 'housing_median_age', 'total_rooms',\n",
       "       'total_bedrooms', 'population', 'households', 'median_income',\n",
       "       'median_house_value', 'ocean_proximity'],\n",
       "      dtype='object')"
      ]
     },
     "execution_count": 3,
     "metadata": {},
     "output_type": "execute_result"
    }
   ],
   "source": [
    "df.columns"
   ]
  },
  {
   "cell_type": "code",
   "execution_count": 4,
   "id": "bb827205",
   "metadata": {},
   "outputs": [
    {
     "data": {
      "text/plain": [
       "longitude               0\n",
       "latitude                0\n",
       "housing_median_age      0\n",
       "total_rooms             0\n",
       "total_bedrooms        207\n",
       "population              0\n",
       "households              0\n",
       "median_income           0\n",
       "median_house_value      0\n",
       "ocean_proximity         0\n",
       "dtype: int64"
      ]
     },
     "execution_count": 4,
     "metadata": {},
     "output_type": "execute_result"
    }
   ],
   "source": [
    "df.isna().sum()"
   ]
  },
  {
   "cell_type": "code",
   "execution_count": 5,
   "id": "725787f1",
   "metadata": {},
   "outputs": [],
   "source": [
    "df=df.fillna(0)"
   ]
  },
  {
   "cell_type": "code",
   "execution_count": 6,
   "id": "09dce339",
   "metadata": {},
   "outputs": [],
   "source": [
    "df.median_house_value=np.log(df.median_house_value)"
   ]
  },
  {
   "cell_type": "markdown",
   "id": "75c261df",
   "metadata": {},
   "source": [
    "## Splitting data in train/val/test"
   ]
  },
  {
   "cell_type": "code",
   "execution_count": 39,
   "id": "71e6fafa",
   "metadata": {},
   "outputs": [],
   "source": [
    "features=df.drop(\"median_house_value\",1).columns\n",
    "dicts = df[features].to_dict(orient='records')"
   ]
  },
  {
   "cell_type": "code",
   "execution_count": 42,
   "id": "1d8de197",
   "metadata": {},
   "outputs": [],
   "source": [
    "dv = DictVectorizer(sparse=False)\n",
    "X = dv.fit_transform(dicts)\n",
    "Y=df[\"median_house_value\"]"
   ]
  },
  {
   "cell_type": "code",
   "execution_count": 43,
   "id": "57f11766",
   "metadata": {},
   "outputs": [],
   "source": [
    "X_train, X_test, y_train, y_test = train_test_split(X, Y, test_size=0.2, random_state=1)\n",
    "\n",
    "X_train, X_val, y_train, y_val = train_test_split(X_train, y_train, test_size=0.25, random_state=1)"
   ]
  },
  {
   "cell_type": "markdown",
   "id": "649d844b",
   "metadata": {},
   "source": [
    "## Basic decision tree"
   ]
  },
  {
   "cell_type": "code",
   "execution_count": 44,
   "id": "759b9671",
   "metadata": {},
   "outputs": [],
   "source": [
    "clf = tree.DecisionTreeRegressor(max_depth=1)\n",
    "clf = clf.fit(X_train, y_train)"
   ]
  },
  {
   "cell_type": "code",
   "execution_count": 45,
   "id": "426bcef6",
   "metadata": {},
   "outputs": [
    {
     "name": "stdout",
     "output_type": "stream",
     "text": [
      "|--- ocean_proximity=INLAND <= 0.50\n",
      "|   |--- value: [12.31]\n",
      "|--- ocean_proximity=INLAND >  0.50\n",
      "|   |--- value: [11.61]\n",
      "\n"
     ]
    }
   ],
   "source": [
    "print(export_text(clf,feature_names=dv.get_feature_names()))"
   ]
  },
  {
   "cell_type": "markdown",
   "id": "68903cc3",
   "metadata": {},
   "source": [
    "## Basic Random forest"
   ]
  },
  {
   "cell_type": "code",
   "execution_count": 46,
   "id": "11e1f35b",
   "metadata": {},
   "outputs": [],
   "source": [
    "regr = RandomForestRegressor(n_estimators=10, random_state=1)\n",
    "regr = regr.fit(X_train, y_train)"
   ]
  },
  {
   "cell_type": "code",
   "execution_count": 47,
   "id": "3a04b233",
   "metadata": {},
   "outputs": [
    {
     "data": {
      "text/plain": [
       "0.2453588910676007"
      ]
     },
     "execution_count": 47,
     "metadata": {},
     "output_type": "execute_result"
    }
   ],
   "source": [
    "np.sqrt(mean_squared_error(regr.predict(X_val),y_val))"
   ]
  },
  {
   "cell_type": "markdown",
   "id": "10f98d1b",
   "metadata": {},
   "source": [
    "## Random Forest with hyperparameter tuning"
   ]
  },
  {
   "cell_type": "markdown",
   "id": "87baa43d",
   "metadata": {},
   "source": [
    "### Choosing best hyperparameter for the n_estimators"
   ]
  },
  {
   "cell_type": "code",
   "execution_count": 48,
   "id": "341fbca5",
   "metadata": {},
   "outputs": [],
   "source": [
    "rmse_df=pd.DataFrame({\"param\":np.arange(10,200,10)})\n",
    "rmse_df['rmse']=np.nan"
   ]
  },
  {
   "cell_type": "code",
   "execution_count": 50,
   "id": "1184b7d1",
   "metadata": {},
   "outputs": [],
   "source": [
    "for i in np.arange(10,200,10):    \n",
    "    regr = RandomForestRegressor(n_estimators=i, random_state=1,n_jobs=-1)\n",
    "    regr = regr.fit(X_train, y_train)\n",
    "    rmse_df.loc[rmse_df.param==i,'rmse']=np.sqrt(mean_squared_error(regr.predict(X_val),y_val))"
   ]
  },
  {
   "cell_type": "code",
   "execution_count": 51,
   "id": "b4cfc90e",
   "metadata": {},
   "outputs": [
    {
     "data": {
      "text/plain": [
       "[<matplotlib.lines.Line2D at 0x2058bce15b0>]"
      ]
     },
     "execution_count": 51,
     "metadata": {},
     "output_type": "execute_result"
    },
    {
     "data": {
      "image/png": "[encoded data removed]",
      "text/plain": [
       "<Figure size 432x288 with 1 Axes>"
      ]
     },
     "metadata": {
      "needs_background": "light"
     },
     "output_type": "display_data"
    }
   ],
   "source": [
    "plt.plot(rmse_df.param,rmse_df.rmse)"
   ]
  },
  {
   "cell_type": "code",
   "execution_count": 52,
   "id": "479a9b54",
   "metadata": {},
   "outputs": [
    {
     "data": {
      "text/html": [
       "<div>\n",
       "<style scoped>\n",
       "    .dataframe tbody tr th:only-of-type {\n",
       "        vertical-align: middle;\n",
       "    }\n",
       "\n",
       "    .dataframe tbody tr th {\n",
       "        vertical-align: top;\n",
       "    }\n",
       "\n",
       "    .dataframe thead th {\n",
       "        text-align: right;\n",
       "    }\n",
       "</style>\n",
       "<table border=\"1\" class=\"dataframe\">\n",
       "  <thead>\n",
       "    <tr style=\"text-align: right;\">\n",
       "      <th></th>\n",
       "      <th>param</th>\n",
       "      <th>rmse</th>\n",
       "    </tr>\n",
       "  </thead>\n",
       "  <tbody>\n",
       "    <tr>\n",
       "      <th>16</th>\n",
       "      <td>170</td>\n",
       "      <td>0.23153</td>\n",
       "    </tr>\n",
       "  </tbody>\n",
       "</table>\n",
       "</div>"
      ],
      "text/plain": [
       "    param     rmse\n",
       "16    170  0.23153"
      ]
     },
     "execution_count": 52,
     "metadata": {},
     "output_type": "execute_result"
    }
   ],
   "source": [
    "rmse_df[rmse_df.rmse==rmse_df.rmse.min()]"
   ]
  },
  {
   "cell_type": "markdown",
   "id": "2673c1f1",
   "metadata": {},
   "source": [
    "### Choosing best hyperparameter for the n_estimators, and max_depth"
   ]
  },
  {
   "cell_type": "code",
   "execution_count": 53,
   "id": "b8508486",
   "metadata": {},
   "outputs": [],
   "source": [
    "list_max_depth=[10, 15, 20, 25]\n",
    "list_n_est=list(np.arange(10,200,10))\n",
    "rmse_df=pd.DataFrame({\"n_est\":np.repeat(list_n_est,len(list_max_depth)),\"max_depth\":list_max_depth*len(list_n_est)})\n",
    "rmse_df['rmse']=np.nan\n"
   ]
  },
  {
   "cell_type": "code",
   "execution_count": 54,
   "id": "d98cbbbc",
   "metadata": {},
   "outputs": [],
   "source": [
    "for j in list_max_depth:\n",
    "    for i in list_n_est:    \n",
    "        regr = RandomForestRegressor(n_estimators=i, random_state=1,max_depth=j,n_jobs=-1)\n",
    "        regr = regr.fit(X_train, y_train)\n",
    "        rmse_df.loc[(rmse_df.n_est==i) & (rmse_df.max_depth==j),'rmse']=np.sqrt(mean_squared_error(regr.predict(X_val),y_val))\n",
    "        "
   ]
  },
  {
   "cell_type": "code",
   "execution_count": 55,
   "id": "d264c11d",
   "metadata": {},
   "outputs": [
    {
     "data": {
      "text/html": [
       "<div>\n",
       "<style scoped>\n",
       "    .dataframe tbody tr th:only-of-type {\n",
       "        vertical-align: middle;\n",
       "    }\n",
       "\n",
       "    .dataframe tbody tr th {\n",
       "        vertical-align: top;\n",
       "    }\n",
       "\n",
       "    .dataframe thead th {\n",
       "        text-align: right;\n",
       "    }\n",
       "</style>\n",
       "<table border=\"1\" class=\"dataframe\">\n",
       "  <thead>\n",
       "    <tr style=\"text-align: right;\">\n",
       "      <th></th>\n",
       "      <th>n_est</th>\n",
       "      <th>max_depth</th>\n",
       "      <th>rmse</th>\n",
       "    </tr>\n",
       "  </thead>\n",
       "  <tbody>\n",
       "    <tr>\n",
       "      <th>67</th>\n",
       "      <td>170</td>\n",
       "      <td>25</td>\n",
       "      <td>0.231696</td>\n",
       "    </tr>\n",
       "  </tbody>\n",
       "</table>\n",
       "</div>"
      ],
      "text/plain": [
       "    n_est  max_depth      rmse\n",
       "67    170         25  0.231696"
      ]
     },
     "execution_count": 55,
     "metadata": {},
     "output_type": "execute_result"
    }
   ],
   "source": [
    "rmse_df[rmse_df.rmse==rmse_df.rmse.min()]"
   ]
  },
  {
   "cell_type": "markdown",
   "id": "7f8a18b5",
   "metadata": {},
   "source": [
    "## Feature Importance"
   ]
  },
  {
   "cell_type": "code",
   "execution_count": 13,
   "id": "6d578c07",
   "metadata": {},
   "outputs": [
    {
     "data": {
      "text/plain": [
       "array([1.68877189e-02, 3.29234611e-02, 1.00635995e-01, 9.68727768e-02,\n",
       "       3.63889951e-01, 3.06679246e-03, 3.10901161e-01, 3.58566277e-04,\n",
       "       2.70076860e-04, 4.21955925e-03, 3.00099243e-02, 1.90503564e-02,\n",
       "       2.09136608e-02])"
      ]
     },
     "execution_count": 13,
     "metadata": {},
     "output_type": "execute_result"
    }
   ],
   "source": [
    "regr = RandomForestRegressor(n_estimators=10, random_state=1,max_depth=20,n_jobs=-1)\n",
    "regr = regr.fit(X_train, y_train)\n",
    "regr.feature_importances_"
   ]
  },
  {
   "cell_type": "code",
   "execution_count": 16,
   "id": "3b7f4c05",
   "metadata": {},
   "outputs": [
    {
     "data": {
      "text/plain": [
       "['households',\n",
       " 'housing_median_age',\n",
       " 'latitude',\n",
       " 'longitude',\n",
       " 'median_income',\n",
       " 'ocean_proximity=<1H OCEAN',\n",
       " 'ocean_proximity=INLAND',\n",
       " 'ocean_proximity=ISLAND',\n",
       " 'ocean_proximity=NEAR BAY',\n",
       " 'ocean_proximity=NEAR OCEAN',\n",
       " 'population',\n",
       " 'total_bedrooms',\n",
       " 'total_rooms']"
      ]
     },
     "execution_count": 16,
     "metadata": {},
     "output_type": "execute_result"
    }
   ],
   "source": [
    "dv.get_feature_names()"
   ]
  },
  {
   "cell_type": "code",
   "execution_count": 19,
   "id": "47e51224",
   "metadata": {},
   "outputs": [],
   "source": [
    "import seaborn as sns"
   ]
  },
  {
   "cell_type": "code",
   "execution_count": 20,
   "id": "cad610f1",
   "metadata": {},
   "outputs": [
    {
     "data": {
      "text/plain": [
       "<AxesSubplot:>"
      ]
     },
     "execution_count": 20,
     "metadata": {},
     "output_type": "execute_result"
    },
    {
     "data": {
      "image/png": "[encoded data removed]",
      "text/plain": [
       "<Figure size 432x288 with 1 Axes>"
      ]
     },
     "metadata": {
      "needs_background": "light"
     },
     "output_type": "display_data"
    }
   ],
   "source": [
    "sns.barplot(y=dv.get_feature_names(),x=regr.feature_importances_)"
   ]
  },
  {
   "cell_type": "markdown",
   "id": "72e4174a",
   "metadata": {},
   "source": [
    "## Xgboost"
   ]
  },
  {
   "cell_type": "code",
   "execution_count": 22,
   "id": "668bf2e7",
   "metadata": {},
   "outputs": [
    {
     "name": "stdout",
     "output_type": "stream",
     "text": [
      "Collecting xgboost\n",
      "  Downloading xgboost-1.7.1-py3-none-win_amd64.whl (89.1 MB)\n",
      "Requirement already satisfied: numpy in c:\\users\\anas\\anaconda3\\lib\\site-packages (from xgboost) (1.20.1)\n",
      "Requirement already satisfied: scipy in c:\\users\\anas\\anaconda3\\lib\\site-packages (from xgboost) (1.6.2)\n",
      "Installing collected packages: xgboost\n",
      "Successfully installed xgboost-1.7.1\n"
     ]
    }
   ],
   "source": [
    "! pip install xgboost"
   ]
  },
  {
   "cell_type": "code",
   "execution_count": 23,
   "id": "96fc92b8",
   "metadata": {},
   "outputs": [],
   "source": [
    "import xgboost as xgb"
   ]
  },
  {
   "cell_type": "code",
   "execution_count": 30,
   "id": "de7a04b2",
   "metadata": {},
   "outputs": [
    {
     "data": {
      "text/plain": [
       "['households',\n",
       " 'housing_median_age',\n",
       " 'latitude',\n",
       " 'longitude',\n",
       " 'median_income',\n",
       " 'ocean_proximity=inf1H OCEAN',\n",
       " 'ocean_proximity=INLAND',\n",
       " 'ocean_proximity=ISLAND',\n",
       " 'ocean_proximity=NEAR BAY',\n",
       " 'ocean_proximity=NEAR OCEAN',\n",
       " 'population',\n",
       " 'total_bedrooms',\n",
       " 'total_rooms']"
      ]
     },
     "execution_count": 30,
     "metadata": {},
     "output_type": "execute_result"
    }
   ],
   "source": [
    "[i.replace('<','inf') for i in features]\n",
    "#features.replace('<','inf')"
   ]
  },
  {
   "cell_type": "code",
   "execution_count": 32,
   "id": "a75ed86a",
   "metadata": {},
   "outputs": [],
   "source": [
    "features = dv.get_feature_names()\n",
    "dtrain = xgb.DMatrix(X_train, label=y_train, feature_names=[i.replace('<','inf') for i in features])\n",
    "dval = xgb.DMatrix(X_val, label=y_val, feature_names=[i.replace('<','inf') for i in features])"
   ]
  },
  {
   "cell_type": "code",
   "execution_count": 35,
   "id": "2985b28c",
   "metadata": {},
   "outputs": [],
   "source": [
    "watchlist = [(dtrain, 'train'), (dval, 'val')]"
   ]
  },
  {
   "cell_type": "code",
   "execution_count": 34,
   "id": "7f57179e",
   "metadata": {},
   "outputs": [],
   "source": [
    "xgb_params = {\n",
    "    'eta': 0.3, \n",
    "    'max_depth': 6,\n",
    "    'min_child_weight': 1,\n",
    "    \n",
    "    'objective': 'reg:squarederror',\n",
    "    'nthread': 8,\n",
    "    \n",
    "    'seed': 1,\n",
    "    'verbosity': 1,\n",
    "}\n",
    "\n",
    "#model = xgb.train(xgb_params, dtrain, num_boost_round=10)"
   ]
  },
  {
   "cell_type": "code",
   "execution_count": 36,
   "id": "c55cb63e",
   "metadata": {},
   "outputs": [
    {
     "name": "stdout",
     "output_type": "stream",
     "text": [
      "[0]\ttrain-rmse:8.12733\tval-rmse:8.13244\n",
      "[5]\ttrain-rmse:1.40200\tval-rmse:1.40661\n",
      "[10]\ttrain-rmse:0.34112\tval-rmse:0.35698\n",
      "[15]\ttrain-rmse:0.22977\tval-rmse:0.25737\n",
      "[20]\ttrain-rmse:0.21202\tval-rmse:0.24811\n",
      "[25]\ttrain-rmse:0.20120\tval-rmse:0.24347\n",
      "[30]\ttrain-rmse:0.19298\tval-rmse:0.24019\n",
      "[35]\ttrain-rmse:0.18569\tval-rmse:0.23825\n",
      "[40]\ttrain-rmse:0.17833\tval-rmse:0.23687\n",
      "[45]\ttrain-rmse:0.17270\tval-rmse:0.23553\n",
      "[50]\ttrain-rmse:0.16768\tval-rmse:0.23502\n",
      "[55]\ttrain-rmse:0.16276\tval-rmse:0.23384\n",
      "[60]\ttrain-rmse:0.15875\tval-rmse:0.23298\n",
      "[65]\ttrain-rmse:0.15595\tval-rmse:0.23203\n",
      "[70]\ttrain-rmse:0.15282\tval-rmse:0.23180\n",
      "[75]\ttrain-rmse:0.14970\tval-rmse:0.23153\n",
      "[80]\ttrain-rmse:0.14576\tval-rmse:0.23134\n",
      "[85]\ttrain-rmse:0.14259\tval-rmse:0.23069\n",
      "[90]\ttrain-rmse:0.14056\tval-rmse:0.23074\n",
      "[95]\ttrain-rmse:0.13836\tval-rmse:0.23045\n",
      "[99]\ttrain-rmse:0.13646\tval-rmse:0.22983\n"
     ]
    }
   ],
   "source": [
    "model = xgb.train(xgb_params, dtrain, num_boost_round=100,\n",
    "                  verbose_eval=5,\n",
    "                  evals=watchlist)"
   ]
  },
  {
   "cell_type": "code",
   "execution_count": 37,
   "id": "23dfb1c7",
   "metadata": {},
   "outputs": [],
   "source": [
    "xgb_params['eta']=0.1"
   ]
  },
  {
   "cell_type": "code",
   "execution_count": 38,
   "id": "f2b5d2e2",
   "metadata": {},
   "outputs": [
    {
     "name": "stdout",
     "output_type": "stream",
     "text": [
      "[0]\ttrain-rmse:10.44371\tval-rmse:10.44937\n",
      "[5]\ttrain-rmse:6.17511\tval-rmse:6.17977\n",
      "[10]\ttrain-rmse:3.65747\tval-rmse:3.66145\n",
      "[15]\ttrain-rmse:2.17503\tval-rmse:2.17860\n",
      "[20]\ttrain-rmse:1.30614\tval-rmse:1.31100\n",
      "[25]\ttrain-rmse:0.79934\tval-rmse:0.80636\n",
      "[30]\ttrain-rmse:0.51263\tval-rmse:0.52326\n",
      "[35]\ttrain-rmse:0.35799\tval-rmse:0.37341\n",
      "[40]\ttrain-rmse:0.27966\tval-rmse:0.30040\n",
      "[45]\ttrain-rmse:0.24320\tval-rmse:0.26777\n",
      "[50]\ttrain-rmse:0.22558\tval-rmse:0.25376\n",
      "[55]\ttrain-rmse:0.21644\tval-rmse:0.24694\n",
      "[60]\ttrain-rmse:0.21096\tval-rmse:0.24312\n",
      "[65]\ttrain-rmse:0.20606\tval-rmse:0.24033\n",
      "[70]\ttrain-rmse:0.20249\tval-rmse:0.23854\n",
      "[75]\ttrain-rmse:0.19867\tval-rmse:0.23702\n",
      "[80]\ttrain-rmse:0.19484\tval-rmse:0.23522\n",
      "[85]\ttrain-rmse:0.19126\tval-rmse:0.23353\n",
      "[90]\ttrain-rmse:0.18848\tval-rmse:0.23265\n",
      "[95]\ttrain-rmse:0.18459\tval-rmse:0.23103\n",
      "[99]\ttrain-rmse:0.18280\tval-rmse:0.23057\n"
     ]
    }
   ],
   "source": [
    "model = xgb.train(xgb_params, dtrain, num_boost_round=100,\n",
    "                  verbose_eval=5,\n",
    "                  evals=watchlist)"
   ]
  }
 ],
 "metadata": {
  "kernelspec": {
   "display_name": "Python 3 (ipykernel)",
   "language": "python",
   "name": "python3"
  },
  "language_info": {
   "codemirror_mode": {
    "name": "ipython",
    "version": 3
   },
   "file_extension": ".py",
   "mimetype": "text/x-python",
   "name": "python",
   "nbconvert_exporter": "python",
   "pygments_lexer": "ipython3",
   "version": "3.9.13"
  }
 },
 "nbformat": 4,
 "nbformat_minor": 5
}
