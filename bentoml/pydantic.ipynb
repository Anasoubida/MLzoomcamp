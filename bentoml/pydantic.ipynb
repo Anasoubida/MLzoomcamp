{
 "cells": [
  {
   "cell_type": "code",
   "execution_count": 1,
   "id": "34c48a7c",
   "metadata": {},
   "outputs": [],
   "source": [
    "import bentoml\n",
    "import pandas as pd\n",
    "import pydantic"
   ]
  },
  {
   "cell_type": "code",
   "execution_count": 2,
   "id": "c50ae137",
   "metadata": {},
   "outputs": [],
   "source": [
    "from pydantic import BaseModel "
   ]
  },
  {
   "cell_type": "code",
   "execution_count": 4,
   "id": "7e4fc7e4",
   "metadata": {},
   "outputs": [],
   "source": [
    "# Create pydantic base class to create data schema for validation\n",
    "class UserProfile(BaseModel):\n",
    "    name : str\n",
    "    age : int\n",
    "    country : str\n",
    "    rating : int"
   ]
  },
  {
   "cell_type": "code",
   "execution_count": null,
   "id": "a812b273",
   "metadata": {},
   "outputs": [],
   "source": []
  }
 ],
 "metadata": {
  "kernelspec": {
   "display_name": "Python 3 (ipykernel)",
   "language": "python",
   "name": "python3"
  },
  "language_info": {
   "codemirror_mode": {
    "name": "ipython",
    "version": 3
   },
   "file_extension": ".py",
   "mimetype": "text/x-python",
   "name": "python",
   "nbconvert_exporter": "python",
   "pygments_lexer": "ipython3",
   "version": "3.10.6"
  }
 },
 "nbformat": 4,
 "nbformat_minor": 5
}
