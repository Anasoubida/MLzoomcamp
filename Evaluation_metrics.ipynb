{
 "cells": [
  {
   "cell_type": "code",
   "execution_count": 1,
   "id": "ba89df23",
   "metadata": {},
   "outputs": [],
   "source": [
    "import pandas as pd\n",
    "import numpy as np\n",
    "import matplotlib.pyplot as plt\n",
    "from sklearn.model_selection import train_test_split\n",
    "from sklearn.linear_model import LogisticRegression, Ridge\n",
    "from sklearn.metrics import recall_score, precision_score, roc_auc_score"
   ]
  },
  {
   "cell_type": "code",
   "execution_count": 2,
   "id": "79bbf8fb",
   "metadata": {},
   "outputs": [],
   "source": [
    "df=pd.read_csv(\"evaluation metrics/AER_credit_card_data.csv\")"
   ]
  },
  {
   "cell_type": "code",
   "execution_count": 3,
   "id": "021a16de",
   "metadata": {},
   "outputs": [
    {
     "data": {
      "text/html": [
       "<div>\n",
       "<style scoped>\n",
       "    .dataframe tbody tr th:only-of-type {\n",
       "        vertical-align: middle;\n",
       "    }\n",
       "\n",
       "    .dataframe tbody tr th {\n",
       "        vertical-align: top;\n",
       "    }\n",
       "\n",
       "    .dataframe thead th {\n",
       "        text-align: right;\n",
       "    }\n",
       "</style>\n",
       "<table border=\"1\" class=\"dataframe\">\n",
       "  <thead>\n",
       "    <tr style=\"text-align: right;\">\n",
       "      <th></th>\n",
       "      <th>card</th>\n",
       "      <th>reports</th>\n",
       "      <th>age</th>\n",
       "      <th>income</th>\n",
       "      <th>share</th>\n",
       "      <th>expenditure</th>\n",
       "      <th>owner</th>\n",
       "      <th>selfemp</th>\n",
       "      <th>dependents</th>\n",
       "      <th>months</th>\n",
       "      <th>majorcards</th>\n",
       "      <th>active</th>\n",
       "    </tr>\n",
       "  </thead>\n",
       "  <tbody>\n",
       "    <tr>\n",
       "      <th>0</th>\n",
       "      <td>yes</td>\n",
       "      <td>0</td>\n",
       "      <td>37.66667</td>\n",
       "      <td>4.5200</td>\n",
       "      <td>0.033270</td>\n",
       "      <td>124.983300</td>\n",
       "      <td>yes</td>\n",
       "      <td>no</td>\n",
       "      <td>3</td>\n",
       "      <td>54</td>\n",
       "      <td>1</td>\n",
       "      <td>12</td>\n",
       "    </tr>\n",
       "    <tr>\n",
       "      <th>1</th>\n",
       "      <td>yes</td>\n",
       "      <td>0</td>\n",
       "      <td>33.25000</td>\n",
       "      <td>2.4200</td>\n",
       "      <td>0.005217</td>\n",
       "      <td>9.854167</td>\n",
       "      <td>no</td>\n",
       "      <td>no</td>\n",
       "      <td>3</td>\n",
       "      <td>34</td>\n",
       "      <td>1</td>\n",
       "      <td>13</td>\n",
       "    </tr>\n",
       "    <tr>\n",
       "      <th>2</th>\n",
       "      <td>yes</td>\n",
       "      <td>0</td>\n",
       "      <td>33.66667</td>\n",
       "      <td>4.5000</td>\n",
       "      <td>0.004156</td>\n",
       "      <td>15.000000</td>\n",
       "      <td>yes</td>\n",
       "      <td>no</td>\n",
       "      <td>4</td>\n",
       "      <td>58</td>\n",
       "      <td>1</td>\n",
       "      <td>5</td>\n",
       "    </tr>\n",
       "    <tr>\n",
       "      <th>3</th>\n",
       "      <td>yes</td>\n",
       "      <td>0</td>\n",
       "      <td>30.50000</td>\n",
       "      <td>2.5400</td>\n",
       "      <td>0.065214</td>\n",
       "      <td>137.869200</td>\n",
       "      <td>no</td>\n",
       "      <td>no</td>\n",
       "      <td>0</td>\n",
       "      <td>25</td>\n",
       "      <td>1</td>\n",
       "      <td>7</td>\n",
       "    </tr>\n",
       "    <tr>\n",
       "      <th>4</th>\n",
       "      <td>yes</td>\n",
       "      <td>0</td>\n",
       "      <td>32.16667</td>\n",
       "      <td>9.7867</td>\n",
       "      <td>0.067051</td>\n",
       "      <td>546.503300</td>\n",
       "      <td>yes</td>\n",
       "      <td>no</td>\n",
       "      <td>2</td>\n",
       "      <td>64</td>\n",
       "      <td>1</td>\n",
       "      <td>5</td>\n",
       "    </tr>\n",
       "    <tr>\n",
       "      <th>...</th>\n",
       "      <td>...</td>\n",
       "      <td>...</td>\n",
       "      <td>...</td>\n",
       "      <td>...</td>\n",
       "      <td>...</td>\n",
       "      <td>...</td>\n",
       "      <td>...</td>\n",
       "      <td>...</td>\n",
       "      <td>...</td>\n",
       "      <td>...</td>\n",
       "      <td>...</td>\n",
       "      <td>...</td>\n",
       "    </tr>\n",
       "    <tr>\n",
       "      <th>1314</th>\n",
       "      <td>yes</td>\n",
       "      <td>0</td>\n",
       "      <td>33.58333</td>\n",
       "      <td>4.5660</td>\n",
       "      <td>0.002146</td>\n",
       "      <td>7.333333</td>\n",
       "      <td>yes</td>\n",
       "      <td>no</td>\n",
       "      <td>0</td>\n",
       "      <td>94</td>\n",
       "      <td>1</td>\n",
       "      <td>19</td>\n",
       "    </tr>\n",
       "    <tr>\n",
       "      <th>1315</th>\n",
       "      <td>no</td>\n",
       "      <td>5</td>\n",
       "      <td>23.91667</td>\n",
       "      <td>3.1920</td>\n",
       "      <td>0.000376</td>\n",
       "      <td>0.000000</td>\n",
       "      <td>no</td>\n",
       "      <td>no</td>\n",
       "      <td>3</td>\n",
       "      <td>12</td>\n",
       "      <td>1</td>\n",
       "      <td>5</td>\n",
       "    </tr>\n",
       "    <tr>\n",
       "      <th>1316</th>\n",
       "      <td>yes</td>\n",
       "      <td>0</td>\n",
       "      <td>40.58333</td>\n",
       "      <td>4.6000</td>\n",
       "      <td>0.026513</td>\n",
       "      <td>101.298300</td>\n",
       "      <td>yes</td>\n",
       "      <td>no</td>\n",
       "      <td>2</td>\n",
       "      <td>1</td>\n",
       "      <td>1</td>\n",
       "      <td>2</td>\n",
       "    </tr>\n",
       "    <tr>\n",
       "      <th>1317</th>\n",
       "      <td>yes</td>\n",
       "      <td>0</td>\n",
       "      <td>32.83333</td>\n",
       "      <td>3.7000</td>\n",
       "      <td>0.008999</td>\n",
       "      <td>26.996670</td>\n",
       "      <td>no</td>\n",
       "      <td>yes</td>\n",
       "      <td>0</td>\n",
       "      <td>60</td>\n",
       "      <td>1</td>\n",
       "      <td>7</td>\n",
       "    </tr>\n",
       "    <tr>\n",
       "      <th>1318</th>\n",
       "      <td>yes</td>\n",
       "      <td>0</td>\n",
       "      <td>48.25000</td>\n",
       "      <td>3.7000</td>\n",
       "      <td>0.111619</td>\n",
       "      <td>344.157500</td>\n",
       "      <td>yes</td>\n",
       "      <td>no</td>\n",
       "      <td>2</td>\n",
       "      <td>2</td>\n",
       "      <td>1</td>\n",
       "      <td>0</td>\n",
       "    </tr>\n",
       "  </tbody>\n",
       "</table>\n",
       "<p>1319 rows × 12 columns</p>\n",
       "</div>"
      ],
      "text/plain": [
       "     card  reports       age  income     share  expenditure owner selfemp  \\\n",
       "0     yes        0  37.66667  4.5200  0.033270   124.983300   yes      no   \n",
       "1     yes        0  33.25000  2.4200  0.005217     9.854167    no      no   \n",
       "2     yes        0  33.66667  4.5000  0.004156    15.000000   yes      no   \n",
       "3     yes        0  30.50000  2.5400  0.065214   137.869200    no      no   \n",
       "4     yes        0  32.16667  9.7867  0.067051   546.503300   yes      no   \n",
       "...   ...      ...       ...     ...       ...          ...   ...     ...   \n",
       "1314  yes        0  33.58333  4.5660  0.002146     7.333333   yes      no   \n",
       "1315   no        5  23.91667  3.1920  0.000376     0.000000    no      no   \n",
       "1316  yes        0  40.58333  4.6000  0.026513   101.298300   yes      no   \n",
       "1317  yes        0  32.83333  3.7000  0.008999    26.996670    no     yes   \n",
       "1318  yes        0  48.25000  3.7000  0.111619   344.157500   yes      no   \n",
       "\n",
       "      dependents  months  majorcards  active  \n",
       "0              3      54           1      12  \n",
       "1              3      34           1      13  \n",
       "2              4      58           1       5  \n",
       "3              0      25           1       7  \n",
       "4              2      64           1       5  \n",
       "...          ...     ...         ...     ...  \n",
       "1314           0      94           1      19  \n",
       "1315           3      12           1       5  \n",
       "1316           2       1           1       2  \n",
       "1317           0      60           1       7  \n",
       "1318           2       2           1       0  \n",
       "\n",
       "[1319 rows x 12 columns]"
      ]
     },
     "execution_count": 3,
     "metadata": {},
     "output_type": "execute_result"
    }
   ],
   "source": [
    "df"
   ]
  },
  {
   "cell_type": "markdown",
   "id": "bb497a8a",
   "metadata": {},
   "source": [
    "# Data Preparation"
   ]
  },
  {
   "cell_type": "code",
   "execution_count": 4,
   "id": "244a2050",
   "metadata": {},
   "outputs": [],
   "source": [
    "df.loc[df.card=='yes','card']=1\n",
    "df.loc[df.card=='no','card']=0"
   ]
  },
  {
   "cell_type": "code",
   "execution_count": 5,
   "id": "7367d439",
   "metadata": {},
   "outputs": [],
   "source": [
    "df.card=pd.to_numeric(df.card)"
   ]
  },
  {
   "cell_type": "markdown",
   "id": "e97ab09e",
   "metadata": {},
   "source": [
    "# Q1 : Feature selection based on AUC"
   ]
  },
  {
   "cell_type": "code",
   "execution_count": 6,
   "id": "870bf4f9",
   "metadata": {},
   "outputs": [],
   "source": [
    "X=df.drop(\"card\",1)\n",
    "Y=df[\"card\"]\n",
    "X_train, X_test, y_train, y_test = train_test_split(X, Y, test_size=0.2, random_state=1)\n",
    "\n",
    "X_train, X_val, y_train, y_val = train_test_split(X_train, y_train, test_size=0.25, random_state=1)"
   ]
  },
  {
   "cell_type": "code",
   "execution_count": 7,
   "id": "0ad1bdda",
   "metadata": {},
   "outputs": [],
   "source": [
    "num_vars=df.select_dtypes(include=np.number).columns[1:]\n",
    "auc_df=pd.DataFrame({\"col\":num_vars,\"auc_score\":[np.nan]*len(num_vars)})"
   ]
  },
  {
   "cell_type": "code",
   "execution_count": 8,
   "id": "d3f6c25e",
   "metadata": {},
   "outputs": [],
   "source": [
    "for i in num_vars:\n",
    "    auc_df.loc[auc_df['col']==i,\"auc_score\"]=roc_auc_score(df['card'],df[i])"
   ]
  },
  {
   "cell_type": "code",
   "execution_count": 9,
   "id": "d5ac37b0",
   "metadata": {},
   "outputs": [
    {
     "data": {
      "text/html": [
       "<div>\n",
       "<style scoped>\n",
       "    .dataframe tbody tr th:only-of-type {\n",
       "        vertical-align: middle;\n",
       "    }\n",
       "\n",
       "    .dataframe tbody tr th {\n",
       "        vertical-align: top;\n",
       "    }\n",
       "\n",
       "    .dataframe thead th {\n",
       "        text-align: right;\n",
       "    }\n",
       "</style>\n",
       "<table border=\"1\" class=\"dataframe\">\n",
       "  <thead>\n",
       "    <tr style=\"text-align: right;\">\n",
       "      <th></th>\n",
       "      <th>col</th>\n",
       "      <th>auc_score</th>\n",
       "    </tr>\n",
       "  </thead>\n",
       "  <tbody>\n",
       "    <tr>\n",
       "      <th>0</th>\n",
       "      <td>reports</td>\n",
       "      <td>0.282199</td>\n",
       "    </tr>\n",
       "    <tr>\n",
       "      <th>5</th>\n",
       "      <td>dependents</td>\n",
       "      <td>0.474228</td>\n",
       "    </tr>\n",
       "    <tr>\n",
       "      <th>6</th>\n",
       "      <td>months</td>\n",
       "      <td>0.482117</td>\n",
       "    </tr>\n",
       "    <tr>\n",
       "      <th>1</th>\n",
       "      <td>age</td>\n",
       "      <td>0.498625</td>\n",
       "    </tr>\n",
       "    <tr>\n",
       "      <th>7</th>\n",
       "      <td>majorcards</td>\n",
       "      <td>0.549911</td>\n",
       "    </tr>\n",
       "    <tr>\n",
       "      <th>8</th>\n",
       "      <td>active</td>\n",
       "      <td>0.582468</td>\n",
       "    </tr>\n",
       "    <tr>\n",
       "      <th>2</th>\n",
       "      <td>income</td>\n",
       "      <td>0.588890</td>\n",
       "    </tr>\n",
       "    <tr>\n",
       "      <th>4</th>\n",
       "      <td>expenditure</td>\n",
       "      <td>0.989736</td>\n",
       "    </tr>\n",
       "    <tr>\n",
       "      <th>3</th>\n",
       "      <td>share</td>\n",
       "      <td>0.989805</td>\n",
       "    </tr>\n",
       "  </tbody>\n",
       "</table>\n",
       "</div>"
      ],
      "text/plain": [
       "           col  auc_score\n",
       "0      reports   0.282199\n",
       "5   dependents   0.474228\n",
       "6       months   0.482117\n",
       "1          age   0.498625\n",
       "7   majorcards   0.549911\n",
       "8       active   0.582468\n",
       "2       income   0.588890\n",
       "4  expenditure   0.989736\n",
       "3        share   0.989805"
      ]
     },
     "execution_count": 9,
     "metadata": {},
     "output_type": "execute_result"
    }
   ],
   "source": [
    "auc_df.sort_values('auc_score')"
   ]
  },
  {
   "cell_type": "markdown",
   "id": "9735b5d4",
   "metadata": {},
   "source": [
    "share has the highest AUC"
   ]
  },
  {
   "cell_type": "markdown",
   "id": "65cb625f",
   "metadata": {},
   "source": [
    "# Training the model"
   ]
  },
  {
   "cell_type": "code",
   "execution_count": 10,
   "id": "826a3d7f",
   "metadata": {},
   "outputs": [],
   "source": [
    "x_vars=[\"reports\", \"age\", \"income\", \"share\", \"expenditure\", \"dependents\", \"months\", \"majorcards\", \"active\", \"owner\", \"selfemp\"]"
   ]
  },
  {
   "cell_type": "code",
   "execution_count": 11,
   "id": "b261da53",
   "metadata": {},
   "outputs": [],
   "source": [
    "X_train=pd.get_dummies(X_train[x_vars])\n",
    "X_val=pd.get_dummies(X_val[x_vars])\n",
    "X_test=pd.get_dummies(X_test[x_vars])"
   ]
  },
  {
   "cell_type": "code",
   "execution_count": 12,
   "id": "60bac199",
   "metadata": {},
   "outputs": [
    {
     "data": {
      "text/html": [
       "<div>\n",
       "<style scoped>\n",
       "    .dataframe tbody tr th:only-of-type {\n",
       "        vertical-align: middle;\n",
       "    }\n",
       "\n",
       "    .dataframe tbody tr th {\n",
       "        vertical-align: top;\n",
       "    }\n",
       "\n",
       "    .dataframe thead th {\n",
       "        text-align: right;\n",
       "    }\n",
       "</style>\n",
       "<table border=\"1\" class=\"dataframe\">\n",
       "  <thead>\n",
       "    <tr style=\"text-align: right;\">\n",
       "      <th></th>\n",
       "      <th>reports</th>\n",
       "      <th>age</th>\n",
       "      <th>income</th>\n",
       "      <th>share</th>\n",
       "      <th>expenditure</th>\n",
       "      <th>dependents</th>\n",
       "      <th>months</th>\n",
       "      <th>majorcards</th>\n",
       "      <th>active</th>\n",
       "      <th>owner_no</th>\n",
       "      <th>owner_yes</th>\n",
       "      <th>selfemp_no</th>\n",
       "      <th>selfemp_yes</th>\n",
       "    </tr>\n",
       "  </thead>\n",
       "  <tbody>\n",
       "    <tr>\n",
       "      <th>1105</th>\n",
       "      <td>3</td>\n",
       "      <td>40.50000</td>\n",
       "      <td>4.0128</td>\n",
       "      <td>0.000299</td>\n",
       "      <td>0.00000</td>\n",
       "      <td>1</td>\n",
       "      <td>12</td>\n",
       "      <td>1</td>\n",
       "      <td>17</td>\n",
       "      <td>1</td>\n",
       "      <td>0</td>\n",
       "      <td>1</td>\n",
       "      <td>0</td>\n",
       "    </tr>\n",
       "    <tr>\n",
       "      <th>431</th>\n",
       "      <td>1</td>\n",
       "      <td>32.33333</td>\n",
       "      <td>6.0000</td>\n",
       "      <td>0.000200</td>\n",
       "      <td>0.00000</td>\n",
       "      <td>4</td>\n",
       "      <td>18</td>\n",
       "      <td>1</td>\n",
       "      <td>4</td>\n",
       "      <td>0</td>\n",
       "      <td>1</td>\n",
       "      <td>1</td>\n",
       "      <td>0</td>\n",
       "    </tr>\n",
       "    <tr>\n",
       "      <th>407</th>\n",
       "      <td>1</td>\n",
       "      <td>29.16667</td>\n",
       "      <td>2.2000</td>\n",
       "      <td>0.038205</td>\n",
       "      <td>69.79333</td>\n",
       "      <td>0</td>\n",
       "      <td>49</td>\n",
       "      <td>1</td>\n",
       "      <td>7</td>\n",
       "      <td>1</td>\n",
       "      <td>0</td>\n",
       "      <td>1</td>\n",
       "      <td>0</td>\n",
       "    </tr>\n",
       "    <tr>\n",
       "      <th>1217</th>\n",
       "      <td>1</td>\n",
       "      <td>54.66667</td>\n",
       "      <td>7.2900</td>\n",
       "      <td>0.106536</td>\n",
       "      <td>647.20670</td>\n",
       "      <td>2</td>\n",
       "      <td>78</td>\n",
       "      <td>1</td>\n",
       "      <td>9</td>\n",
       "      <td>0</td>\n",
       "      <td>1</td>\n",
       "      <td>1</td>\n",
       "      <td>0</td>\n",
       "    </tr>\n",
       "    <tr>\n",
       "      <th>1133</th>\n",
       "      <td>0</td>\n",
       "      <td>25.00000</td>\n",
       "      <td>3.3984</td>\n",
       "      <td>0.000353</td>\n",
       "      <td>0.00000</td>\n",
       "      <td>2</td>\n",
       "      <td>29</td>\n",
       "      <td>0</td>\n",
       "      <td>4</td>\n",
       "      <td>0</td>\n",
       "      <td>1</td>\n",
       "      <td>1</td>\n",
       "      <td>0</td>\n",
       "    </tr>\n",
       "    <tr>\n",
       "      <th>...</th>\n",
       "      <td>...</td>\n",
       "      <td>...</td>\n",
       "      <td>...</td>\n",
       "      <td>...</td>\n",
       "      <td>...</td>\n",
       "      <td>...</td>\n",
       "      <td>...</td>\n",
       "      <td>...</td>\n",
       "      <td>...</td>\n",
       "      <td>...</td>\n",
       "      <td>...</td>\n",
       "      <td>...</td>\n",
       "      <td>...</td>\n",
       "    </tr>\n",
       "    <tr>\n",
       "      <th>416</th>\n",
       "      <td>0</td>\n",
       "      <td>53.00000</td>\n",
       "      <td>2.4500</td>\n",
       "      <td>0.017718</td>\n",
       "      <td>35.67500</td>\n",
       "      <td>0</td>\n",
       "      <td>3</td>\n",
       "      <td>1</td>\n",
       "      <td>11</td>\n",
       "      <td>0</td>\n",
       "      <td>1</td>\n",
       "      <td>1</td>\n",
       "      <td>0</td>\n",
       "    </tr>\n",
       "    <tr>\n",
       "      <th>1162</th>\n",
       "      <td>2</td>\n",
       "      <td>30.58333</td>\n",
       "      <td>2.5000</td>\n",
       "      <td>0.000480</td>\n",
       "      <td>0.00000</td>\n",
       "      <td>0</td>\n",
       "      <td>12</td>\n",
       "      <td>1</td>\n",
       "      <td>18</td>\n",
       "      <td>1</td>\n",
       "      <td>0</td>\n",
       "      <td>1</td>\n",
       "      <td>0</td>\n",
       "    </tr>\n",
       "    <tr>\n",
       "      <th>128</th>\n",
       "      <td>0</td>\n",
       "      <td>24.75000</td>\n",
       "      <td>1.8750</td>\n",
       "      <td>0.080708</td>\n",
       "      <td>126.02250</td>\n",
       "      <td>1</td>\n",
       "      <td>14</td>\n",
       "      <td>0</td>\n",
       "      <td>1</td>\n",
       "      <td>1</td>\n",
       "      <td>0</td>\n",
       "      <td>1</td>\n",
       "      <td>0</td>\n",
       "    </tr>\n",
       "    <tr>\n",
       "      <th>413</th>\n",
       "      <td>1</td>\n",
       "      <td>56.91667</td>\n",
       "      <td>3.4838</td>\n",
       "      <td>0.062895</td>\n",
       "      <td>182.09580</td>\n",
       "      <td>0</td>\n",
       "      <td>540</td>\n",
       "      <td>1</td>\n",
       "      <td>7</td>\n",
       "      <td>0</td>\n",
       "      <td>1</td>\n",
       "      <td>1</td>\n",
       "      <td>0</td>\n",
       "    </tr>\n",
       "    <tr>\n",
       "      <th>1203</th>\n",
       "      <td>2</td>\n",
       "      <td>24.58333</td>\n",
       "      <td>2.2000</td>\n",
       "      <td>0.000545</td>\n",
       "      <td>0.00000</td>\n",
       "      <td>0</td>\n",
       "      <td>6</td>\n",
       "      <td>1</td>\n",
       "      <td>8</td>\n",
       "      <td>1</td>\n",
       "      <td>0</td>\n",
       "      <td>1</td>\n",
       "      <td>0</td>\n",
       "    </tr>\n",
       "  </tbody>\n",
       "</table>\n",
       "<p>791 rows × 13 columns</p>\n",
       "</div>"
      ],
      "text/plain": [
       "      reports       age  income     share  expenditure  dependents  months  \\\n",
       "1105        3  40.50000  4.0128  0.000299      0.00000           1      12   \n",
       "431         1  32.33333  6.0000  0.000200      0.00000           4      18   \n",
       "407         1  29.16667  2.2000  0.038205     69.79333           0      49   \n",
       "1217        1  54.66667  7.2900  0.106536    647.20670           2      78   \n",
       "1133        0  25.00000  3.3984  0.000353      0.00000           2      29   \n",
       "...       ...       ...     ...       ...          ...         ...     ...   \n",
       "416         0  53.00000  2.4500  0.017718     35.67500           0       3   \n",
       "1162        2  30.58333  2.5000  0.000480      0.00000           0      12   \n",
       "128         0  24.75000  1.8750  0.080708    126.02250           1      14   \n",
       "413         1  56.91667  3.4838  0.062895    182.09580           0     540   \n",
       "1203        2  24.58333  2.2000  0.000545      0.00000           0       6   \n",
       "\n",
       "      majorcards  active  owner_no  owner_yes  selfemp_no  selfemp_yes  \n",
       "1105           1      17         1          0           1            0  \n",
       "431            1       4         0          1           1            0  \n",
       "407            1       7         1          0           1            0  \n",
       "1217           1       9         0          1           1            0  \n",
       "1133           0       4         0          1           1            0  \n",
       "...          ...     ...       ...        ...         ...          ...  \n",
       "416            1      11         0          1           1            0  \n",
       "1162           1      18         1          0           1            0  \n",
       "128            0       1         1          0           1            0  \n",
       "413            1       7         0          1           1            0  \n",
       "1203           1       8         1          0           1            0  \n",
       "\n",
       "[791 rows x 13 columns]"
      ]
     },
     "execution_count": 12,
     "metadata": {},
     "output_type": "execute_result"
    }
   ],
   "source": [
    "X_train"
   ]
  },
  {
   "cell_type": "code",
   "execution_count": 13,
   "id": "cd4fa45a",
   "metadata": {},
   "outputs": [],
   "source": [
    "model=LogisticRegression(solver='liblinear', C=1.0, max_iter=1000)"
   ]
  },
  {
   "cell_type": "code",
   "execution_count": 14,
   "id": "bec10ed3",
   "metadata": {},
   "outputs": [
    {
     "data": {
      "text/plain": [
       "LogisticRegression(max_iter=1000, solver='liblinear')"
      ]
     },
     "execution_count": 14,
     "metadata": {},
     "output_type": "execute_result"
    }
   ],
   "source": [
    "model.fit(X_train,y_train)"
   ]
  },
  {
   "cell_type": "markdown",
   "id": "321cdd50",
   "metadata": {},
   "source": [
    "# Q2 : AUC on Validation set"
   ]
  },
  {
   "cell_type": "code",
   "execution_count": 15,
   "id": "1a957b44",
   "metadata": {},
   "outputs": [],
   "source": [
    "y_val_pred=model.predict(X_val)"
   ]
  },
  {
   "cell_type": "code",
   "execution_count": 16,
   "id": "a1e54cbe",
   "metadata": {},
   "outputs": [
    {
     "data": {
      "text/plain": [
       "0.9739783600107306"
      ]
     },
     "execution_count": 16,
     "metadata": {},
     "output_type": "execute_result"
    }
   ],
   "source": [
    "roc_auc_score(y_val,y_val_pred)"
   ]
  },
  {
   "cell_type": "markdown",
   "id": "7ca8b240",
   "metadata": {},
   "source": [
    "# Q3 : Precision and recall"
   ]
  },
  {
   "cell_type": "code",
   "execution_count": 17,
   "id": "9842f518",
   "metadata": {},
   "outputs": [],
   "source": [
    "threshold_list = np.linspace(0,1,100)\n"
   ]
  },
  {
   "cell_type": "code",
   "execution_count": 18,
   "id": "e217f555",
   "metadata": {},
   "outputs": [
    {
     "data": {
      "text/plain": [
       "(264, 2)"
      ]
     },
     "execution_count": 18,
     "metadata": {},
     "output_type": "execute_result"
    }
   ],
   "source": [
    "model.predict_proba(X_val).shape"
   ]
  },
  {
   "cell_type": "code",
   "execution_count": 19,
   "id": "1bc3576a",
   "metadata": {},
   "outputs": [
    {
     "data": {
      "text/plain": [
       "array([0.86163509, 0.13836491])"
      ]
     },
     "execution_count": 19,
     "metadata": {},
     "output_type": "execute_result"
    }
   ],
   "source": [
    "model.predict_proba(X_val)[10,:]"
   ]
  },
  {
   "cell_type": "code",
   "execution_count": 20,
   "id": "92615595",
   "metadata": {},
   "outputs": [],
   "source": [
    "Y_val_pred = model.predict_proba(X_val)[:,1]"
   ]
  },
  {
   "cell_type": "code",
   "execution_count": 21,
   "id": "d4fbd3ae",
   "metadata": {},
   "outputs": [],
   "source": [
    "df_tresh=pd.DataFrame({\"tresh\":threshold_list,'precision':[np.nan]*len(threshold_list),'recall':[np.nan]*len(threshold_list)})\n",
    "for i in threshold_list:\n",
    "    actual_positive = (y_val == 1)\n",
    "    actual_negative = (y_val == 0)\n",
    "    predict_pos=(Y_val_pred >= i)\n",
    "    predict_neg=(Y_val_pred < i)\n",
    "    \n",
    "    tp=(predict_pos & actual_positive).sum()\n",
    "    tn=(predict_neg & actual_negative).sum()\n",
    "    \n",
    "    fp=(predict_pos & actual_negative).sum()\n",
    "    fn=(predict_neg & actual_positive).sum()\n",
    "    \n",
    "    \n",
    "    df_tresh.loc[df_tresh.tresh==i,\"precision\"]=tp/(tp+fp)\n",
    "    df_tresh.loc[df_tresh.tresh==i,\"recall\"]=tp/(tp+fn)"
   ]
  },
  {
   "cell_type": "code",
   "execution_count": 22,
   "id": "c2c18b63",
   "metadata": {},
   "outputs": [
    {
     "data": {
      "text/html": [
       "<div>\n",
       "<style scoped>\n",
       "    .dataframe tbody tr th:only-of-type {\n",
       "        vertical-align: middle;\n",
       "    }\n",
       "\n",
       "    .dataframe tbody tr th {\n",
       "        vertical-align: top;\n",
       "    }\n",
       "\n",
       "    .dataframe thead th {\n",
       "        text-align: right;\n",
       "    }\n",
       "</style>\n",
       "<table border=\"1\" class=\"dataframe\">\n",
       "  <thead>\n",
       "    <tr style=\"text-align: right;\">\n",
       "      <th></th>\n",
       "      <th>tresh</th>\n",
       "      <th>precision</th>\n",
       "      <th>recall</th>\n",
       "    </tr>\n",
       "  </thead>\n",
       "  <tbody>\n",
       "    <tr>\n",
       "      <th>23</th>\n",
       "      <td>0.232323</td>\n",
       "      <td>0.976303</td>\n",
       "      <td>0.976303</td>\n",
       "    </tr>\n",
       "    <tr>\n",
       "      <th>24</th>\n",
       "      <td>0.242424</td>\n",
       "      <td>0.976303</td>\n",
       "      <td>0.976303</td>\n",
       "    </tr>\n",
       "    <tr>\n",
       "      <th>25</th>\n",
       "      <td>0.252525</td>\n",
       "      <td>0.976303</td>\n",
       "      <td>0.976303</td>\n",
       "    </tr>\n",
       "    <tr>\n",
       "      <th>26</th>\n",
       "      <td>0.262626</td>\n",
       "      <td>0.976303</td>\n",
       "      <td>0.976303</td>\n",
       "    </tr>\n",
       "    <tr>\n",
       "      <th>27</th>\n",
       "      <td>0.272727</td>\n",
       "      <td>0.976303</td>\n",
       "      <td>0.976303</td>\n",
       "    </tr>\n",
       "    <tr>\n",
       "      <th>28</th>\n",
       "      <td>0.282828</td>\n",
       "      <td>0.976303</td>\n",
       "      <td>0.976303</td>\n",
       "    </tr>\n",
       "    <tr>\n",
       "      <th>29</th>\n",
       "      <td>0.292929</td>\n",
       "      <td>0.976303</td>\n",
       "      <td>0.976303</td>\n",
       "    </tr>\n",
       "  </tbody>\n",
       "</table>\n",
       "</div>"
      ],
      "text/plain": [
       "       tresh  precision    recall\n",
       "23  0.232323   0.976303  0.976303\n",
       "24  0.242424   0.976303  0.976303\n",
       "25  0.252525   0.976303  0.976303\n",
       "26  0.262626   0.976303  0.976303\n",
       "27  0.272727   0.976303  0.976303\n",
       "28  0.282828   0.976303  0.976303\n",
       "29  0.292929   0.976303  0.976303"
      ]
     },
     "execution_count": 22,
     "metadata": {},
     "output_type": "execute_result"
    }
   ],
   "source": [
    "df_tresh[df_tresh.precision==df_tresh.recall]"
   ]
  },
  {
   "cell_type": "code",
   "execution_count": 23,
   "id": "895c144d",
   "metadata": {},
   "outputs": [
    {
     "data": {
      "text/plain": [
       "[<matplotlib.lines.Line2D at 0x19896da8160>]"
      ]
     },
     "execution_count": 23,
     "metadata": {},
     "output_type": "execute_result"
    },
    {
     "data": {
      "image/png": "[encoded data removed]",
      "text/plain": [
       "<Figure size 432x288 with 1 Axes>"
      ]
     },
     "metadata": {
      "needs_background": "light"
     },
     "output_type": "display_data"
    }
   ],
   "source": [
    "plt.plot(df_tresh.tresh,df_tresh.precision)\n",
    "plt.plot(df_tresh.tresh,df_tresh.recall)"
   ]
  },
  {
   "cell_type": "markdown",
   "id": "7a68e9cb",
   "metadata": {},
   "source": [
    "# Q4 : F1 score"
   ]
  },
  {
   "cell_type": "markdown",
   "id": "92575799",
   "metadata": {},
   "source": [
    "F1 = 2 * P * R / (P + R)"
   ]
  },
  {
   "cell_type": "code",
   "execution_count": 24,
   "id": "abfe7b2d",
   "metadata": {},
   "outputs": [],
   "source": [
    "df_tresh['F1_score']=2*(df_tresh.precision*df_tresh.recall)/(df_tresh.precision+df_tresh.recall)"
   ]
  },
  {
   "cell_type": "code",
   "execution_count": 25,
   "id": "b0a045d9",
   "metadata": {},
   "outputs": [
    {
     "data": {
      "text/html": [
       "<div>\n",
       "<style scoped>\n",
       "    .dataframe tbody tr th:only-of-type {\n",
       "        vertical-align: middle;\n",
       "    }\n",
       "\n",
       "    .dataframe tbody tr th {\n",
       "        vertical-align: top;\n",
       "    }\n",
       "\n",
       "    .dataframe thead th {\n",
       "        text-align: right;\n",
       "    }\n",
       "</style>\n",
       "<table border=\"1\" class=\"dataframe\">\n",
       "  <thead>\n",
       "    <tr style=\"text-align: right;\">\n",
       "      <th></th>\n",
       "      <th>tresh</th>\n",
       "      <th>precision</th>\n",
       "      <th>recall</th>\n",
       "      <th>F1_score</th>\n",
       "    </tr>\n",
       "  </thead>\n",
       "  <tbody>\n",
       "    <tr>\n",
       "      <th>0</th>\n",
       "      <td>0.000000</td>\n",
       "      <td>0.799242</td>\n",
       "      <td>1.000000</td>\n",
       "      <td>0.888421</td>\n",
       "    </tr>\n",
       "    <tr>\n",
       "      <th>99</th>\n",
       "      <td>1.000000</td>\n",
       "      <td>1.000000</td>\n",
       "      <td>0.848341</td>\n",
       "      <td>0.917949</td>\n",
       "    </tr>\n",
       "    <tr>\n",
       "      <th>1</th>\n",
       "      <td>0.010101</td>\n",
       "      <td>0.861224</td>\n",
       "      <td>1.000000</td>\n",
       "      <td>0.925439</td>\n",
       "    </tr>\n",
       "    <tr>\n",
       "      <th>2</th>\n",
       "      <td>0.020202</td>\n",
       "      <td>0.871901</td>\n",
       "      <td>1.000000</td>\n",
       "      <td>0.931567</td>\n",
       "    </tr>\n",
       "    <tr>\n",
       "      <th>3</th>\n",
       "      <td>0.030303</td>\n",
       "      <td>0.897872</td>\n",
       "      <td>1.000000</td>\n",
       "      <td>0.946188</td>\n",
       "    </tr>\n",
       "    <tr>\n",
       "      <th>...</th>\n",
       "      <td>...</td>\n",
       "      <td>...</td>\n",
       "      <td>...</td>\n",
       "      <td>...</td>\n",
       "    </tr>\n",
       "    <tr>\n",
       "      <th>40</th>\n",
       "      <td>0.404040</td>\n",
       "      <td>0.995146</td>\n",
       "      <td>0.971564</td>\n",
       "      <td>0.983213</td>\n",
       "    </tr>\n",
       "    <tr>\n",
       "      <th>41</th>\n",
       "      <td>0.414141</td>\n",
       "      <td>0.995146</td>\n",
       "      <td>0.971564</td>\n",
       "      <td>0.983213</td>\n",
       "    </tr>\n",
       "    <tr>\n",
       "      <th>35</th>\n",
       "      <td>0.353535</td>\n",
       "      <td>0.995146</td>\n",
       "      <td>0.971564</td>\n",
       "      <td>0.983213</td>\n",
       "    </tr>\n",
       "    <tr>\n",
       "      <th>34</th>\n",
       "      <td>0.343434</td>\n",
       "      <td>0.995146</td>\n",
       "      <td>0.971564</td>\n",
       "      <td>0.983213</td>\n",
       "    </tr>\n",
       "    <tr>\n",
       "      <th>39</th>\n",
       "      <td>0.393939</td>\n",
       "      <td>0.995146</td>\n",
       "      <td>0.971564</td>\n",
       "      <td>0.983213</td>\n",
       "    </tr>\n",
       "  </tbody>\n",
       "</table>\n",
       "<p>100 rows × 4 columns</p>\n",
       "</div>"
      ],
      "text/plain": [
       "       tresh  precision    recall  F1_score\n",
       "0   0.000000   0.799242  1.000000  0.888421\n",
       "99  1.000000   1.000000  0.848341  0.917949\n",
       "1   0.010101   0.861224  1.000000  0.925439\n",
       "2   0.020202   0.871901  1.000000  0.931567\n",
       "3   0.030303   0.897872  1.000000  0.946188\n",
       "..       ...        ...       ...       ...\n",
       "40  0.404040   0.995146  0.971564  0.983213\n",
       "41  0.414141   0.995146  0.971564  0.983213\n",
       "35  0.353535   0.995146  0.971564  0.983213\n",
       "34  0.343434   0.995146  0.971564  0.983213\n",
       "39  0.393939   0.995146  0.971564  0.983213\n",
       "\n",
       "[100 rows x 4 columns]"
      ]
     },
     "execution_count": 25,
     "metadata": {},
     "output_type": "execute_result"
    }
   ],
   "source": [
    "df_tresh.sort_values('F1_score')"
   ]
  },
  {
   "cell_type": "markdown",
   "id": "f4e40b8b",
   "metadata": {},
   "source": [
    "# Q5 : Kfold for evaluating model"
   ]
  },
  {
   "cell_type": "code",
   "execution_count": 26,
   "id": "11451ca0",
   "metadata": {},
   "outputs": [],
   "source": [
    "from sklearn.model_selection import KFold"
   ]
  },
  {
   "cell_type": "code",
   "execution_count": 27,
   "id": "f5bbd9b3",
   "metadata": {},
   "outputs": [],
   "source": [
    "kf = KFold(n_splits=5, shuffle=True, random_state=1)"
   ]
  },
  {
   "cell_type": "code",
   "execution_count": 28,
   "id": "fbab7941",
   "metadata": {},
   "outputs": [],
   "source": [
    "model=LogisticRegression(solver='liblinear', C=1.0, max_iter=1000)\n",
    "df_auc=pd.DataFrame({\"folds\":[1,2,3,4,5],\"AUC\":[np.nan]*5})"
   ]
  },
  {
   "cell_type": "code",
   "execution_count": 29,
   "id": "4ea8864d",
   "metadata": {},
   "outputs": [],
   "source": [
    "X_train.reset_index(drop=True,inplace=True)\n",
    "y_train.reset_index(drop=True,inplace=True)"
   ]
  },
  {
   "cell_type": "code",
   "execution_count": 30,
   "id": "31f4c679",
   "metadata": {},
   "outputs": [],
   "source": [
    "a=0\n",
    "for train_index, val_index in kf.split(X_train):\n",
    "    a+=1\n",
    "    #print(\"TRAIN:\", train_index, \"TEST:\", val_index)\n",
    "    X_train_, X_val_ = X_train.loc[train_index,], X_train.loc[val_index,]\n",
    "    y_train_, y_val_ = y_train.loc[train_index,], y_train.loc[val_index,]\n",
    "    model.fit(X_train_,y_train_)\n",
    "    y_val_pred=model.predict_proba(X_val_)[:,1]\n",
    "    df_auc.loc[df_auc.folds==a,'AUC']=roc_auc_score(y_val_,y_val_pred)"
   ]
  },
  {
   "cell_type": "code",
   "execution_count": 31,
   "id": "2acee003",
   "metadata": {},
   "outputs": [
    {
     "data": {
      "text/plain": [
       "0.0034755108598963857"
      ]
     },
     "execution_count": 31,
     "metadata": {},
     "output_type": "execute_result"
    }
   ],
   "source": [
    "df_auc.AUC.std()"
   ]
  },
  {
   "cell_type": "markdown",
   "id": "0d68b4f5",
   "metadata": {},
   "source": [
    "# Q6 : Kfold for choosing hyperparameters"
   ]
  },
  {
   "cell_type": "code",
   "execution_count": 32,
   "id": "c33b77de",
   "metadata": {},
   "outputs": [],
   "source": [
    "c_params=[0.01, 0.1, 1, 10]"
   ]
  },
  {
   "cell_type": "code",
   "execution_count": 33,
   "id": "4b6905e2",
   "metadata": {},
   "outputs": [],
   "source": [
    "kf = KFold(n_splits=5, shuffle=True, random_state=1)"
   ]
  },
  {
   "cell_type": "code",
   "execution_count": 34,
   "id": "c0b07903",
   "metadata": {},
   "outputs": [],
   "source": [
    "df_auc=pd.DataFrame({\"folds\":[1,2,3,4,5]*4,\"AUC\":[np.nan]*20,\"c\":c_params*5})"
   ]
  },
  {
   "cell_type": "code",
   "execution_count": 35,
   "id": "28d08bc9",
   "metadata": {},
   "outputs": [],
   "source": [
    "for c in c_params:\n",
    "    LogisticRegression(solver='liblinear', C=c, max_iter=1000)\n",
    "    a=0\n",
    "    for train_index, val_index in kf.split(X_train):\n",
    "        a+=1\n",
    "        #print(\"TRAIN:\", train_index, \"TEST:\", val_index)\n",
    "        X_train_, X_val_ = X_train.loc[train_index,], X_train.loc[val_index,]\n",
    "        y_train_, y_val_ = y_train.loc[train_index,], y_train.loc[val_index,]\n",
    "        model.fit(X_train_,y_train_)\n",
    "        y_val_pred=model.predict_proba(X_val_)[:,1]\n",
    "        df_auc.loc[(df_auc.folds==a) & (df_auc.c==c),'AUC']=roc_auc_score(y_val_,y_val_pred)"
   ]
  },
  {
   "cell_type": "code",
   "execution_count": 36,
   "id": "049aef6c",
   "metadata": {},
   "outputs": [
    {
     "data": {
      "text/plain": [
       "c\n",
       "0.01     0.996414\n",
       "0.10     0.996414\n",
       "1.00     0.996414\n",
       "10.00    0.996414\n",
       "Name: AUC, dtype: float64"
      ]
     },
     "execution_count": 36,
     "metadata": {},
     "output_type": "execute_result"
    }
   ],
   "source": [
    "df_auc.groupby('c')['AUC'].mean()"
   ]
  },
  {
   "cell_type": "code",
   "execution_count": 37,
   "id": "aafbe631",
   "metadata": {},
   "outputs": [
    {
     "data": {
      "text/plain": [
       "c\n",
       "0.01     0.003476\n",
       "0.10     0.003476\n",
       "1.00     0.003476\n",
       "10.00    0.003476\n",
       "Name: AUC, dtype: float64"
      ]
     },
     "execution_count": 37,
     "metadata": {},
     "output_type": "execute_result"
    }
   ],
   "source": [
    "df_auc.groupby('c')['AUC'].std()"
   ]
  }
 ],
 "metadata": {
  "kernelspec": {
   "display_name": "Python 3",
   "language": "python",
   "name": "python3"
  },
  "language_info": {
   "codemirror_mode": {
    "name": "ipython",
    "version": 3
   },
   "file_extension": ".py",
   "mimetype": "text/x-python",
   "name": "python",
   "nbconvert_exporter": "python",
   "pygments_lexer": "ipython3",
   "version": "3.8.8"
  }
 },
 "nbformat": 4,
 "nbformat_minor": 5
}
